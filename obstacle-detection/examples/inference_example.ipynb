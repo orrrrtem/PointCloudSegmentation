{
 "cells": [
  {
   "cell_type": "code",
   "execution_count": 1,
   "metadata": {},
   "outputs": [
    {
     "data": {
      "text/plain": [
       "'/home/jovyan/work/obstacle-detection/examples'"
      ]
     },
     "execution_count": 1,
     "metadata": {},
     "output_type": "execute_result"
    }
   ],
   "source": [
    "%pwd"
   ]
  },
  {
   "cell_type": "code",
   "execution_count": 2,
   "metadata": {},
   "outputs": [
    {
     "name": "stdout",
     "output_type": "stream",
     "text": [
      "/home/jovyan/work/obstacle-detection\n"
     ]
    }
   ],
   "source": [
    "%cd .."
   ]
  },
  {
   "cell_type": "code",
   "execution_count": 3,
   "metadata": {},
   "outputs": [],
   "source": [
    "import sys\n",
    "sys.path.append('/home/jovyan/work/boxes_vis/git/obstacle-detection/')\n",
    "sys.path.append('/home/jovyan/work/obstacle-detection/model/')"
   ]
  },
  {
   "cell_type": "code",
   "execution_count": 4,
   "metadata": {},
   "outputs": [
    {
     "data": {
      "text/plain": [
       "['/home/jovyan/work/obstacle-detection/examples',\n",
       " '/opt/conda/lib/python37.zip',\n",
       " '/opt/conda/lib/python3.7',\n",
       " '/opt/conda/lib/python3.7/lib-dynload',\n",
       " '',\n",
       " '/opt/conda/lib/python3.7/site-packages',\n",
       " '/opt/conda/lib/python3.7/site-packages/IPython/extensions',\n",
       " '/home/jovyan/.ipython',\n",
       " '/home/jovyan/work/boxes_vis/git/obstacle-detection/',\n",
       " '/home/jovyan/work/obstacle-detection/model/']"
      ]
     },
     "execution_count": 4,
     "metadata": {},
     "output_type": "execute_result"
    }
   ],
   "source": [
    "sys.path"
   ]
  },
  {
   "cell_type": "code",
   "execution_count": 5,
   "metadata": {},
   "outputs": [],
   "source": [
    "import yaml\n",
    "import numpy as np\n",
    "import pandas as pd\n",
    "import pyntcloud\n",
    "\n",
    "\n",
    "num ='000'\n",
    "scan = np.fromfile('dataset/sequences/00/velodyne/000' + num + '.bin', dtype=np.float32)\n",
    "scan = scan.reshape((-1, 4))\n",
    "\n",
    "label = np.fromfile('dataset/sequences/00/labels/000' + num + '.label', dtype=np.uint32)\n",
    "label = label.reshape((-1))"
   ]
  },
  {
   "cell_type": "code",
   "execution_count": 6,
   "metadata": {},
   "outputs": [],
   "source": [
    "with open('config.yaml') as file:\n",
    "    config = yaml.load(file, Loader=yaml.FullLoader)"
   ]
  },
  {
   "cell_type": "code",
   "execution_count": 7,
   "metadata": {},
   "outputs": [],
   "source": [
    "obstacle_dct = config['obstacles']"
   ]
  },
  {
   "cell_type": "code",
   "execution_count": 8,
   "metadata": {
    "scrolled": true
   },
   "outputs": [
    {
     "data": {
      "text/plain": [
       "{10: 'car',\n",
       " 11: 'bicycle',\n",
       " 13: 'bus',\n",
       " 15: 'motorcycle',\n",
       " 16: 'on-rails',\n",
       " 18: 'truck',\n",
       " 20: 'other-vehicle',\n",
       " 30: 'person',\n",
       " 31: 'bicyclist',\n",
       " 32: 'motorcyclist',\n",
       " 252: 'moving-car',\n",
       " 253: 'moving-bicyclist',\n",
       " 254: 'moving-person',\n",
       " 255: 'moving-motorcyclist',\n",
       " 256: 'moving-on-rails',\n",
       " 257: 'moving-bus',\n",
       " 258: 'moving-truck',\n",
       " 259: 'moving-other-vehicle'}"
      ]
     },
     "execution_count": 8,
     "metadata": {},
     "output_type": "execute_result"
    }
   ],
   "source": [
    "# seg id -> seg name\n",
    "obstacle_dct"
   ]
  },
  {
   "cell_type": "code",
   "execution_count": 9,
   "metadata": {},
   "outputs": [],
   "source": [
    "leaning_map_obstacles = config['learning_map']"
   ]
  },
  {
   "cell_type": "code",
   "execution_count": 10,
   "metadata": {},
   "outputs": [],
   "source": [
    "# ground truth id -> learning id\n",
    "# leaning_map_obstacles"
   ]
  },
  {
   "cell_type": "code",
   "execution_count": 11,
   "metadata": {},
   "outputs": [
    {
     "data": {
      "text/plain": [
       "[1, 2, 3, 4, 5, 6, 7, 8]"
      ]
     },
     "execution_count": 11,
     "metadata": {},
     "output_type": "execute_result"
    }
   ],
   "source": [
    "mapped_obstacles_lst = list(set([leaning_map_obstacles[id] for id in obstacle_dct.keys()]))\n",
    "mapped_obstacles_lst"
   ]
  },
  {
   "cell_type": "code",
   "execution_count": 12,
   "metadata": {},
   "outputs": [],
   "source": [
    "import sys\n",
    "sys.path.append(\"..\")\n",
    "from model.tasks.semantic.infer2 import get_user "
   ]
  },
  {
   "cell_type": "markdown",
   "metadata": {},
   "source": [
    "### Load Model"
   ]
  },
  {
   "cell_type": "code",
   "execution_count": 13,
   "metadata": {
    "scrolled": false
   },
   "outputs": [
    {
     "name": "stdout",
     "output_type": "stream",
     "text": [
      "----------\n",
      "INTERFACE:\n",
      "model darknet21\n",
      "----------\n",
      "\n",
      "Opening arch config file from darknet21\n",
      "Opening data config file from darknet21\n",
      "model folder exists! Using model from darknet21\n",
      "parser started\n",
      "Using DarknetNet21 Backbone\n",
      "Depth of backbone input =  5\n",
      "Original OS:  32\n",
      "New OS:  32\n",
      "Strides:  [2, 2, 2, 2, 2]\n",
      "Decoder original OS:  32\n",
      "Decoder new OS:  32\n",
      "Decoder strides:  [2, 2, 2, 2, 2]\n",
      "Total number of parameters:  24712980\n",
      "Total number of parameters requires_grad:  0\n",
      "Param encoder  14921120\n",
      "Param decoder  9786080\n",
      "Param head  5780\n",
      "Successfully loaded model backbone weights\n",
      "Successfully loaded model decoder weights\n",
      "Successfully loaded model head weights\n",
      "Infering in device:  cpu\n"
     ]
    }
   ],
   "source": [
    "#user = get_user(\"dataset\", \"darknet21\")\n",
    "user = get_user(\"darknet21\")"
   ]
  },
  {
   "cell_type": "code",
   "execution_count": 73,
   "metadata": {
    "scrolled": true
   },
   "outputs": [
    {
     "name": "stdout",
     "output_type": "stream",
     "text": [
      "Infered scan  dataset/sequences/00/velodyne/000000.bin in 2.986173152923584 sec\n",
      "Infered scan  dataset/sequences/00/velodyne/000000.bin in 3.015446186065674 sec\n",
      "Infered scan  dataset/sequences/00/velodyne/000000.bin in 2.9522764682769775 sec\n",
      "Infered scan  dataset/sequences/00/velodyne/000000.bin in 2.9182658195495605 sec\n",
      "Infered scan  dataset/sequences/00/velodyne/000000.bin in 2.86429762840271 sec\n",
      "Infered scan  dataset/sequences/00/velodyne/000000.bin in 2.9911413192749023 sec\n",
      "Infered scan  dataset/sequences/00/velodyne/000000.bin in 3.4889438152313232 sec\n",
      "Infered scan  dataset/sequences/00/velodyne/000000.bin in 3.6889333724975586 sec\n",
      "3.21 s ± 311 ms per loop (mean ± std. dev. of 7 runs, 1 loop each)\n"
     ]
    }
   ],
   "source": [
    "%timeit predicted_labels = user.infer('dataset/sequences/00/velodyne/000000.bin')"
   ]
  },
  {
   "cell_type": "code",
   "execution_count": 14,
   "metadata": {},
   "outputs": [
    {
     "name": "stdout",
     "output_type": "stream",
     "text": [
      "Infered scan  dataset/sequences/00/velodyne/000000.bin in 3.0417513847351074 sec\n"
     ]
    }
   ],
   "source": [
    "predicted_labels = user.infer('dataset/sequences/00/velodyne/000000.bin')"
   ]
  },
  {
   "cell_type": "code",
   "execution_count": 15,
   "metadata": {},
   "outputs": [
    {
     "data": {
      "text/plain": [
       "(124668,)"
      ]
     },
     "execution_count": 15,
     "metadata": {},
     "output_type": "execute_result"
    }
   ],
   "source": [
    "predicted_labels.shape"
   ]
  },
  {
   "cell_type": "markdown",
   "metadata": {},
   "source": [
    "### Visualize segmentated point cloud"
   ]
  },
  {
   "cell_type": "code",
   "execution_count": null,
   "metadata": {},
   "outputs": [],
   "source": [
    "cloud = pd.DataFrame(scan[:, :3], columns=['x', 'y', 'z'])\n",
    "cloud['seg_id'] = predicted_labels\n",
    "pcloud = pyntcloud.PyntCloud(cloud)\n",
    "pcloud.plot(use_as_color='seg_id', cmap=\"cool\", backend=\"pythreejs\")"
   ]
  },
  {
   "cell_type": "markdown",
   "metadata": {},
   "source": [
    "![lol](img/darknet12_scan_000000_seq_00.png)"
   ]
  },
  {
   "cell_type": "code",
   "execution_count": 79,
   "metadata": {},
   "outputs": [
    {
     "data": {
      "text/plain": [
       "array([16, 15, 13, 19, 18, 14,  1,  8,  9, 10, 17, 11,  5,  7])"
      ]
     },
     "execution_count": 79,
     "metadata": {},
     "output_type": "execute_result"
    }
   ],
   "source": [
    "pcloud.points.seg_id.unique()"
   ]
  },
  {
   "cell_type": "markdown",
   "metadata": {},
   "source": [
    "### Visualize only obstacles"
   ]
  },
  {
   "cell_type": "code",
   "execution_count": null,
   "metadata": {
    "scrolled": false
   },
   "outputs": [],
   "source": [
    "cloud_selected  = cloud[cloud.seg_id.isin(mapped_obstacles_lst)]\n",
    "pcloud = pyntcloud.PyntCloud(cloud_selected)\n",
    "pcloud.plot(use_as_color='seg_id', cmap=\"cool\", backend=\"pythreejs\")"
   ]
  },
  {
   "cell_type": "markdown",
   "metadata": {},
   "source": [
    "![lol](img/darknet12_scan_000000_seq_00_obstacles.png)"
   ]
  },
  {
   "cell_type": "markdown",
   "metadata": {},
   "source": [
    "### Load Model"
   ]
  },
  {
   "cell_type": "code",
   "execution_count": 20,
   "metadata": {
    "scrolled": false
   },
   "outputs": [
    {
     "name": "stdout",
     "output_type": "stream",
     "text": [
      "----------\n",
      "INTERFACE:\n",
      "model squeezeseg\n",
      "----------\n",
      "\n",
      "Opening arch config file from squeezeseg\n",
      "Opening data config file from squeezeseg\n",
      "model folder exists! Using model from squeezeseg\n",
      "parser started\n",
      "Using SqueezeNet Backbone\n",
      "Depth of backbone input =  5\n",
      "Original OS:  16\n",
      "New OS:  16\n",
      "Strides:  [2, 2, 2, 2]\n",
      "Decoder original OS:  16\n",
      "Decoder new OS:  16\n",
      "Decoder strides:  [2, 2, 2, 2]\n",
      "Total number of parameters:  915540\n",
      "Total number of parameters requires_grad:  915540\n",
      "Param encoder  724032\n",
      "Param decoder  179968\n",
      "Param head  11540\n",
      "Successfully loaded model backbone weights\n",
      "Successfully loaded model decoder weights\n",
      "Successfully loaded model head weights\n",
      "Infering in device:  cpu\n"
     ]
    }
   ],
   "source": [
    "#user = get_user(\"dataset\", \"darknet21\")\n",
    "user = get_user( \"squeezeseg\")"
   ]
  },
  {
   "cell_type": "code",
   "execution_count": 21,
   "metadata": {
    "scrolled": true
   },
   "outputs": [
    {
     "name": "stdout",
     "output_type": "stream",
     "text": [
      "Infered scan  dataset/sequences/00/velodyne/000000.bin in 0.6862523555755615 sec\n",
      "Infered scan  dataset/sequences/00/velodyne/000000.bin in 0.6715078353881836 sec\n",
      "Infered scan  dataset/sequences/00/velodyne/000000.bin in 0.6594150066375732 sec\n",
      "Infered scan  dataset/sequences/00/velodyne/000000.bin in 0.6856420040130615 sec\n",
      "Infered scan  dataset/sequences/00/velodyne/000000.bin in 0.6706273555755615 sec\n",
      "Infered scan  dataset/sequences/00/velodyne/000000.bin in 0.752985954284668 sec\n",
      "Infered scan  dataset/sequences/00/velodyne/000000.bin in 0.6574509143829346 sec\n",
      "Infered scan  dataset/sequences/00/velodyne/000000.bin in 0.6702816486358643 sec\n",
      "751 ms ± 29.9 ms per loop (mean ± std. dev. of 7 runs, 1 loop each)\n"
     ]
    }
   ],
   "source": [
    "%timeit predicted_labels = user.infer('dataset/sequences/00/velodyne/000000.bin')"
   ]
  },
  {
   "cell_type": "code",
   "execution_count": 22,
   "metadata": {},
   "outputs": [
    {
     "name": "stdout",
     "output_type": "stream",
     "text": [
      "Infered scan  dataset/sequences/00/velodyne/000000.bin in 0.653179407119751 sec\n"
     ]
    }
   ],
   "source": [
    "predicted_labels = user.infer('dataset/sequences/00/velodyne/000000.bin')"
   ]
  },
  {
   "cell_type": "code",
   "execution_count": 23,
   "metadata": {},
   "outputs": [
    {
     "data": {
      "text/plain": [
       "(124668,)"
      ]
     },
     "execution_count": 23,
     "metadata": {},
     "output_type": "execute_result"
    }
   ],
   "source": [
    "predicted_labels.shape"
   ]
  },
  {
   "cell_type": "markdown",
   "metadata": {},
   "source": [
    "### Visualize segmentated point cloud"
   ]
  },
  {
   "cell_type": "code",
   "execution_count": null,
   "metadata": {},
   "outputs": [],
   "source": [
    "cloud = pd.DataFrame(scan[:, :3], columns=['x', 'y', 'z'])\n",
    "cloud['seg_id'] = predicted_labels\n",
    "pcloud = pyntcloud.PyntCloud(cloud)\n",
    "pcloud.plot(use_as_color='seg_id', cmap=\"cool\", backend=\"pythreejs\")"
   ]
  },
  {
   "cell_type": "markdown",
   "metadata": {},
   "source": [
    "![lol](img/squeezeseg_scan_000000_seq_00.png)"
   ]
  },
  {
   "cell_type": "code",
   "execution_count": 25,
   "metadata": {},
   "outputs": [
    {
     "data": {
      "text/plain": [
       "array([18, 16, 19, 13, 15,  4,  5, 12,  1,  6,  8, 14, 17,  7, 10,  9, 11,\n",
       "        3,  2])"
      ]
     },
     "execution_count": 25,
     "metadata": {},
     "output_type": "execute_result"
    }
   ],
   "source": [
    "pcloud.points.seg_id.unique()"
   ]
  },
  {
   "cell_type": "markdown",
   "metadata": {},
   "source": [
    "### Visualize only obstacles"
   ]
  },
  {
   "cell_type": "code",
   "execution_count": null,
   "metadata": {
    "scrolled": false
   },
   "outputs": [],
   "source": [
    "cloud_selected  = cloud[cloud.seg_id.isin(mapped_obstacles_lst)]\n",
    "pcloud = pyntcloud.PyntCloud(cloud_selected)\n",
    "pcloud.plot(use_as_color='seg_id', cmap=\"cool\", backend=\"pythreejs\")"
   ]
  },
  {
   "cell_type": "markdown",
   "metadata": {},
   "source": [
    "![lol](img/squeezeseg_scan_000000_seq_00_obstacles.png)"
   ]
  },
  {
   "cell_type": "code",
   "execution_count": null,
   "metadata": {},
   "outputs": [],
   "source": []
  }
 ],
 "metadata": {
  "kernelspec": {
   "display_name": "Python 3",
   "language": "python",
   "name": "python3"
  },
  "language_info": {
   "codemirror_mode": {
    "name": "ipython",
    "version": 3
   },
   "file_extension": ".py",
   "mimetype": "text/x-python",
   "name": "python",
   "nbconvert_exporter": "python",
   "pygments_lexer": "ipython3",
   "version": "3.7.6"
  }
 },
 "nbformat": 4,
 "nbformat_minor": 4
}
